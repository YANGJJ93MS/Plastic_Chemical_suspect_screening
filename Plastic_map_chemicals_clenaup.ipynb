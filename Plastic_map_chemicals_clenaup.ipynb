{
 "cells": [
  {
   "cell_type": "code",
   "execution_count": 11,
   "metadata": {},
   "outputs": [],
   "source": [
    "import sys\n",
    "import os\n",
    "import numpy as np\n",
    "import scipy.stats as stats\n",
    "import pandas as pd\n",
    "from sklearn.decomposition import PCA\n",
    "import matplotlib.pyplot as plt\n",
    "import seaborn as sb\n",
    "import random as rd\n",
    "import matplotlib\n",
    "import warnings"
   ]
  },
  {
   "cell_type": "code",
   "execution_count": 3,
   "metadata": {},
   "outputs": [
    {
     "name": "stdout",
     "output_type": "stream",
     "text": [
      "Requirement already satisfied: rdkit in d:\\ucsf_postdoc_topic\\echo_project\\data_analysis\\covid_19_analysis\\echoenv\\lib\\site-packages (2024.3.5)\n",
      "Requirement already satisfied: Pillow in d:\\ucsf_postdoc_topic\\echo_project\\data_analysis\\covid_19_analysis\\echoenv\\lib\\site-packages (from rdkit) (10.4.0)\n",
      "Requirement already satisfied: numpy in d:\\ucsf_postdoc_topic\\echo_project\\data_analysis\\covid_19_analysis\\echoenv\\lib\\site-packages (from rdkit) (2.0.2)\n"
     ]
    },
    {
     "name": "stderr",
     "output_type": "stream",
     "text": [
      "WARNING: You are using pip version 22.0.4; however, version 24.3.1 is available.\n",
      "You should consider upgrading via the 'D:\\UCSF_postdoc_topic\\ECHO_project\\Data_analysis\\covid_19_analysis\\echoenv\\Scripts\\python.exe -m pip install --upgrade pip' command.\n"
     ]
    }
   ],
   "source": [
    "!pip install rdkit"
   ]
  },
  {
   "cell_type": "code",
   "execution_count": 44,
   "metadata": {},
   "outputs": [
    {
     "name": "stdout",
     "output_type": "stream",
     "text": [
      "(10547, 794)\n",
      "(6375, 794)\n"
     ]
    },
    {
     "name": "stderr",
     "output_type": "stream",
     "text": [
      "C:\\Users\\yangj\\AppData\\Local\\Temp\\ipykernel_15560\\2136442899.py:5: DtypeWarning: Columns (19,20,59) have mixed types. Specify dtype option on import or set low_memory=False.\n",
      "  chemical_df = pd.read_csv(path3, encoding='ISO-8859-1')\n"
     ]
    }
   ],
   "source": [
    "##the below code is for filtering the chemical list: by selecting the organic compounds from the plasticmap chemical list\n",
    "path3 = 'D:/UCSF_postdoc_topic/ECHO_project/Reprocessed_MSDIAL/CCD-Batch-Search_2024-10-21_07_17_40.csv'\n",
    "\n",
    "# Load the targeted CSV file\n",
    "chemical_df = pd.read_csv(path3, encoding='ISO-8859-1')\n",
    "print(chemical_df.shape)\n",
    "# Retain rows with available value in SMILES column\n",
    "chemical_df = chemical_df[chemical_df['MS_READY_SMILES'].notna()]\n",
    "# chemical_df = chemical_df[chemical_df['SMILES'].notna()]\n",
    "print(chemical_df.shape)"
   ]
  },
  {
   "cell_type": "code",
   "execution_count": 45,
   "metadata": {},
   "outputs": [
    {
     "name": "stderr",
     "output_type": "stream",
     "text": [
      "[14:47:38] WARNING: not removing hydrogen atom without neighbors\n",
      "[14:47:38] Explicit valence for atom # 16 O, 3, is greater than permitted\n",
      "[14:47:38] Explicit valence for atom # 4 Al, 7, is greater than permitted\n",
      "[14:47:38] WARNING: not removing hydrogen atom without neighbors\n",
      "[14:47:38] WARNING: not removing hydrogen atom without neighbors\n",
      "[14:47:38] WARNING: not removing hydrogen atom without neighbors\n",
      "[14:47:38] WARNING: not removing hydrogen atom without neighbors\n",
      "[14:47:38] WARNING: not removing hydrogen atom without neighbors\n",
      "[14:47:38] WARNING: not removing hydrogen atom without neighbors\n",
      "[14:47:38] WARNING: not removing hydrogen atom without neighbors\n",
      "[14:47:38] Explicit valence for atom # 4 Sn, 6, is greater than permitted\n",
      "[14:47:38] WARNING: not removing hydrogen atom without neighbors\n",
      "[14:47:38] WARNING: not removing hydrogen atom without neighbors\n",
      "[14:47:39] WARNING: not removing hydrogen atom without neighbors\n",
      "[14:47:39] WARNING: not removing hydrogen atom without neighbors\n",
      "[14:47:39] WARNING: not removing hydrogen atom without neighbors\n",
      "[14:47:39] Explicit valence for atom # 8 Al, 9, is greater than permitted\n",
      "[14:47:39] WARNING: not removing hydrogen atom without neighbors\n",
      "[14:47:39] WARNING: not removing hydrogen atom without neighbors\n",
      "[14:47:39] WARNING: not removing hydrogen atom without neighbors\n",
      "[14:47:39] Explicit valence for atom # 0 B, 6, is greater than permitted\n",
      "[14:47:39] WARNING: not removing hydrogen atom without neighbors\n",
      "[14:47:39] WARNING: not removing hydrogen atom without neighbors\n",
      "[14:47:40] WARNING: not removing hydrogen atom without neighbors\n",
      "[14:47:40] WARNING: not removing hydrogen atom without neighbors\n",
      "[14:47:40] WARNING: not removing hydrogen atom without neighbors\n",
      "[14:47:40] WARNING: not removing hydrogen atom without neighbors\n",
      "[14:47:40] WARNING: not removing hydrogen atom without neighbors\n",
      "[14:47:40] WARNING: not removing hydrogen atom without neighbors\n",
      "[14:47:40] WARNING: not removing hydrogen atom without neighbors\n",
      "[14:47:40] WARNING: not removing hydrogen atom without neighbors\n",
      "[14:47:40] WARNING: not removing hydrogen atom without neighbors\n",
      "[14:47:40] WARNING: not removing hydrogen atom without neighbors\n",
      "[14:47:40] WARNING: not removing hydrogen atom without neighbors\n",
      "[14:47:40] WARNING: not removing hydrogen atom without neighbors\n",
      "[14:47:40] WARNING: not removing hydrogen atom without neighbors\n",
      "[14:47:40] WARNING: not removing hydrogen atom without neighbors\n"
     ]
    }
   ],
   "source": [
    "from rdkit import Chem\n",
    "from rdkit.Chem import Descriptors\n",
    "from rdkit.Chem.rdmolops import RemoveHs\n",
    "\n",
    "# Function to sanitize the SMILES\n",
    "def sanitize_smiles(smiles):\n",
    "    try:\n",
    "        mol = Chem.MolFromSmiles(smiles)\n",
    "        if mol is None:\n",
    "            return None, None\n",
    "\n",
    "        # Remove fragments after removing salts\n",
    "        frags = Chem.GetMolFrags(mol, asMols=True, sanitizeFrags=False)\n",
    "        mol = max(frags, default=None, key=lambda m: m.GetNumAtoms())\n",
    "        if mol is None:\n",
    "            return None, None\n",
    "\n",
    "        # Attempt to sanitize molecule\n",
    "        Chem.SanitizeMol(mol)\n",
    "\n",
    "        # Standardize and calculate monoisotopic mass\n",
    "        standardized_smiles = Chem.MolToSmiles(mol, isomericSmiles=True)\n",
    "        monoisotopic_mass = Descriptors.ExactMolWt(mol)\n",
    "        \n",
    "        return standardized_smiles, monoisotopic_mass\n",
    "    except Exception as e:\n",
    "        print(f\"Error sanitizing SMILES {smiles}: {e}\")\n",
    "        return None, None\n",
    "\n",
    "SMILES_ready =[]\n",
    "Monoisotopic_Mass_ready =[]\n",
    "for smiles in chemical_df['SMILES']:\n",
    "    standardized_smiles, monoisotopic_mass = sanitize_smiles(smiles)\n",
    "    if standardized_smiles:\n",
    "        SMILES_ready.append(standardized_smiles)\n",
    "        Monoisotopic_Mass_ready.append(monoisotopic_mass)\n",
    "    else:\n",
    "        SMILES_ready.append('NA')\n",
    "        Monoisotopic_Mass_ready.append('NA')\n",
    "chemical_df['SMILES_ready'] = SMILES_ready\n",
    "chemical_df['Monoisotopic_Mass_ready'] = Monoisotopic_Mass_ready"
   ]
  },
  {
   "cell_type": "code",
   "execution_count": 46,
   "metadata": {},
   "outputs": [
    {
     "name": "stdout",
     "output_type": "stream",
     "text": [
      "Filtering complete. The filtered list has been saved as 'Filtered_Chemical_List.csv'.\n"
     ]
    }
   ],
   "source": [
    "#clean up targeted molecule list, retain organic molecules only\n",
    "import pandas as pd\n",
    "from rdkit import Chem\n",
    "\n",
    "# # Retain rows with available value in SMILES column\n",
    "chemical_df = chemical_df[chemical_df['SMILES_ready'].notna()]\n",
    "\n",
    "# Convert 'MONOISOTOPIC MASS' column to numeric, forcing errors to NaN\n",
    "chemical_df['Monoisotopic_Mass_ready'] = pd.to_numeric(chemical_df['Monoisotopic_Mass_ready'], errors='coerce')\n",
    "\n",
    "# Drop rows with NaN in 'MONOISOTOPIC MASS'\n",
    "chemical_df = chemical_df[chemical_df['Monoisotopic_Mass_ready'].notna()]\n",
    "\n",
    "# Function to strictly determine if a molecule is organic\n",
    "def is_organic(smiles):\n",
    "    mol = Chem.MolFromSmiles(smiles)\n",
    "    if mol is None:\n",
    "        return False  # invalid SMILES\n",
    "    organic_elements = {'C', 'H', 'N', 'O', 'P', 'S', 'F', 'Cl', 'Br', 'I'}  # Common organic elements\n",
    "    inorganic_elements = {'Li', 'Be', 'Na', 'Mg', 'Al', 'K', 'Ca', 'Sc', 'Ti', 'V', 'Cr', 'Mn', 'Fe', 'Co', 'Ni', 'Cu', 'Zn', 'Ga', 'Rb', 'Sr', 'Y', 'Zr', 'Nb', 'Mo', 'Tc', 'Ru', 'Rh', 'Pd', 'Ag', 'Cd', 'In', 'Sn', 'Sb', 'Cs', 'Ba', 'La', 'Ce', 'Pr', 'Nd', 'Pm', 'Sm', 'Eu', 'Gd', 'Tb', 'Dy', 'Ho', 'Er', 'Tm', 'Yb', 'Lu', 'Hf', 'Ta', 'W', 'Re', 'Os', 'Ir', 'Pt', 'Au', 'Hg', 'Tl', 'Pb', 'Bi', 'Th', 'U'}\n",
    "    contains_carbon = False\n",
    "    for atom in mol.GetAtoms():\n",
    "        symbol = atom.GetSymbol()\n",
    "        if symbol == 'C':\n",
    "            contains_carbon = True\n",
    "        if symbol in inorganic_elements:\n",
    "            return False  # Contains metal or other inorganic elements\n",
    "        if symbol not in organic_elements:\n",
    "            return False  # Contains uncommon elements for organic molecules\n",
    "    return contains_carbon\n",
    "\n",
    "# Step 1: Filter rows with available MW (MONOISOTOPIC MASS) between 100 and 1000 and classified as organic\n",
    "filtered_df = []\n",
    "for index, row in chemical_df.iterrows():\n",
    "    smiles = row['SMILES_ready']  # Assuming the SMILES column is named 'SMILES'\n",
    "    mol = Chem.MolFromSmiles(smiles)\n",
    "    if mol:\n",
    "        mw = row['Monoisotopic_Mass_ready']  # Assuming the column is named 'MONOISOTOPIC MASS'\n",
    "        if 100 <= mw <= 1000:\n",
    "            if is_organic(smiles):\n",
    "                filtered_df.append(row)\n",
    "\n",
    "# Create a new DataFrame from the filtered rows\n",
    "filtered_df = pd.DataFrame(filtered_df)\n",
    "\n",
    "# Save the filtered DataFrame to a new CSV file\n",
    "# filtered_df.to_csv('D:/UCSF_postdoc_topic/ECHO_project/Reprocessed_MSDIAL/Filtered_Chemical_List.csv', index=False)\n",
    "print(\"Filtering complete. The filtered list has been saved as 'Filtered_Chemical_List.csv'.\")\n",
    "filtered_df.drop_duplicates(subset= 'SMILES_ready', inplace=True)\n",
    "# filtered_df.to_csv('D:/UCSF_postdoc_topic/REVEAL_topics/REVEAL_200samples_analysis/Plastic_map_chemicallist_match/Plastic_Chemical_List_organic.csv', index=False)\n",
    "#export for biontransformation using biotransformer3\n",
    "# Export_Transformation = filtered_df[['SMILES_ready']]\n",
    "# Export_Transformation.to_csv('D:/UCSF_postdoc_topic/REVEAL_topics/First100_batch/Plastic_Chemical_List_organic_forEPA_CTS.txt', index=False)"
   ]
  },
  {
   "cell_type": "code",
   "execution_count": 47,
   "metadata": {},
   "outputs": [
    {
     "data": {
      "text/plain": [
       "(5144, 796)"
      ]
     },
     "execution_count": 47,
     "metadata": {},
     "output_type": "execute_result"
    }
   ],
   "source": [
    "filtered_df.shape"
   ]
  },
  {
   "cell_type": "code",
   "execution_count": null,
   "metadata": {},
   "outputs": [
    {
     "data": {
      "text/plain": [
       "(5628, 828)"
      ]
     },
     "execution_count": 34,
     "metadata": {},
     "output_type": "execute_result"
    }
   ],
   "source": [
    "##make plot for the classficatin of the plastic cheicals \n",
    "##make venn digram for the suspect list\n",
    "#make classification of the filtered plastic map, or combined with the annotation from the est paper\n",
    "#annotate the targeted mz with the function information and the production volume information from the EST paper\n",
    "plasticmap_est = pd.read_csv('D:/UCSF_postdoc_topic/REVEAL_topics/plastic_related_chemicals/plasticmap_from_ESTpaper.csv',encoding='ISO-8859-1')\n",
    "# Match Inchikey from match_summary_df with bloodexpo_modified and retain hits\n",
    "plastic_with_orig_annot= pd.merge(chemical_df, plasticmap_est, how='inner', left_on='SMILES', right_on='SMILES')\n",
    "plastic_with_orig_annot.shape\n",
    "plastic_with_orig_annot.to_csv('D:/UCSF_postdoc_topic/REVEAL_topics/REVEAL_200samples_analysis/Plastic_map_chemicallist_match/Plastic_Chemical_List_organic_withESTannotation.csv', index=False)"
   ]
  },
  {
   "cell_type": "code",
   "execution_count": 41,
   "metadata": {},
   "outputs": [
    {
     "data": {
      "text/plain": [
       "count                                      1330\n",
       "unique                                      198\n",
       "top       SRS/ChemID matched; SRS trust index 3\n",
       "freq                                        375\n",
       "Name: QC_NOTES, dtype: object"
      ]
     },
     "execution_count": 41,
     "metadata": {},
     "output_type": "execute_result"
    }
   ],
   "source": [
    "filtered_df['QC_NOTES'].describe()"
   ]
  },
  {
   "cell_type": "markdown",
   "metadata": {},
   "source": [
    "################searching chemicals with in blood exposome database and the WHO explorer database"
   ]
  },
  {
   "cell_type": "code",
   "execution_count": 1,
   "metadata": {},
   "outputs": [
    {
     "name": "stderr",
     "output_type": "stream",
     "text": [
      "[08:57:11] WARNING: not removing hydrogen atom without neighbors\n",
      "[08:57:11] Explicit valence for atom # 5 Cl, 3, is greater than permitted\n",
      "[08:57:12] Explicit valence for atom # 4 Cl, 3, is greater than permitted\n",
      "[08:57:13] Explicit valence for atom # 7 Br, 3, is greater than permitted\n",
      "[08:57:13] Explicit valence for atom # 20 Cl, 3, is greater than permitted\n",
      "[08:57:15] Explicit valence for atom # 6 Cl, 5, is greater than permitted\n",
      "[08:57:16] Explicit valence for atom # 3 Cl, 3, is greater than permitted\n",
      "[08:57:16] Explicit valence for atom # 5 Br, 3, is greater than permitted\n",
      "[08:57:17] Explicit valence for atom # 9 Cl, 3, is greater than permitted\n",
      "[08:57:24] WARNING: not removing hydrogen atom without neighbors\n"
     ]
    }
   ],
   "source": [
    "import pandas as pd\n",
    "from rdkit import Chem\n",
    "from rdkit.Chem import MolToSmiles\n",
    "##cross refrence, cross check with blood exposome database\n",
    "bloodexpo_dat = pd.read_csv(\"D:/UCSF_postdoc_topic/REVEAL_topics/references/blood_exposome_database/blood_exposome_chemicals_july_2023.csv\")\n",
    "\n",
    "# Step 1: Filter rows with available MW (MONOISOTOPIC MASS) between 100 and 1000 and classified as organic\n",
    "bloodexpo_modified = []\n",
    "for index, row in bloodexpo_dat.iterrows():\n",
    "    smiles = row['CanonicalSMILES']  # Assuming the SMILES column is named 'SMILES'\n",
    "    mol = Chem.MolFromSmiles(smiles)\n",
    "    canonical_smiles = Chem.MolToSmiles(mol, canonical=True) if mol else None\n",
    "    bloodexpo_modified.append({\n",
    "        **row,\n",
    "        \"SMILES_ready\": canonical_smiles})\n",
    "\n",
    "# Create a new DataFrame from the filtered rows\n",
    "bloodexpo_modified = pd.DataFrame(bloodexpo_modified)"
   ]
  },
  {
   "cell_type": "code",
   "execution_count": 2,
   "metadata": {},
   "outputs": [],
   "source": [
    "Explorer = pd.read_csv('D:/UCSF_postdoc_topic/REVEAL_topics/references/WHO_exposome_explorer/biomarkers_exposome_explorer.csv')\n",
    "Explorer.dropna(subset=['SMILES'], inplace=True)\n",
    "# Step 1: Filter rows with available MW (MONOISOTOPIC MASS) between 100 and 1000 and classified as organic\n",
    "expo_modified = []\n",
    "for index, row in Explorer.iterrows():\n",
    "    smiles = row['SMILES']  # Assuming the SMILES column is named 'SMILES'\n",
    "    mol = Chem.MolFromSmiles(smiles)\n",
    "    canonical_smiles = Chem.MolToSmiles(mol, canonical=True) if mol else None\n",
    "    expo_modified.append({\n",
    "        **row,\n",
    "        \"SMILES_ready\": canonical_smiles})\n",
    "\n",
    "# Create a new DataFrame from the filtered rows\n",
    "expo_modified = pd.DataFrame(expo_modified)"
   ]
  },
  {
   "cell_type": "code",
   "execution_count": 3,
   "metadata": {},
   "outputs": [],
   "source": [
    "Explorer_bac = pd.read_csv('D:/UCSF_postdoc_topic/REVEAL_topics/references/WHO_exposome_explorer/microbial_metabolites_explorer.csv')\n",
    "Explorer_bac.dropna(subset=['SMILES'], inplace=True)\n",
    "# Step 1: Filter rows with available MW (MONOISOTOPIC MASS) between 100 and 1000 and classified as organic\n",
    "expobac_modified = []\n",
    "for index, row in Explorer_bac.iterrows():\n",
    "    smiles = row['SMILES']  # Assuming the SMILES column is named 'SMILES'\n",
    "    mol = Chem.MolFromSmiles(smiles)\n",
    "    canonical_smiles = Chem.MolToSmiles(mol, canonical=True) if mol else None\n",
    "    expobac_modified.append({\n",
    "        **row,\n",
    "        \"SMILES_ready\": canonical_smiles})\n",
    "\n",
    "# Create a new DataFrame from the filtered rows\n",
    "expobac_modified = pd.DataFrame(expobac_modified)"
   ]
  },
  {
   "cell_type": "code",
   "execution_count": 4,
   "metadata": {},
   "outputs": [
    {
     "data": {
      "text/plain": [
       "(1063, 29)"
      ]
     },
     "execution_count": 4,
     "metadata": {},
     "output_type": "execute_result"
    }
   ],
   "source": [
    "explorer_comb = pd.concat([expobac_modified, expo_modified])\n",
    "explorer_comb.drop_duplicates(subset= 'SMILES_ready', inplace=True)\n",
    "explorer_comb.shape"
   ]
  },
  {
   "cell_type": "code",
   "execution_count": 15,
   "metadata": {},
   "outputs": [],
   "source": [
    "plastic_est_paper = pd.read_csv('D:/UCSF_postdoc_topic/REVEAL_topics/plastic_related_chemicals/plasticmap_from_ESTpaper.csv',encoding='ISO-8859-1')\n",
    "plastic_chem = pd.read_csv('D:/UCSF_postdoc_topic/REVEAL_topics/REVEAL_200samples_analysis/plastic_map_chemlist/Plastic_Chemical_List_organic_withRTprediction_new_SMILES.csv')"
   ]
  },
  {
   "cell_type": "code",
   "execution_count": 24,
   "metadata": {},
   "outputs": [],
   "source": [
    "#add comments of the cross check with blood expo and exposome explorer, and plastic_est_paper to the orignial plastic_chem list\n",
    "for i,row in plastic_chem.iterrows():\n",
    "    inchikey = row['INCHIKEY']\n",
    "    smiles = row['SMILES_ready']\n",
    "    if inchikey in bloodexpo_modified['InChIKey'].tolist():\n",
    "        plastic_chem.loc[i,'BloodExpo_check'] = 'Y'\n",
    "    else:\n",
    "        plastic_chem.loc[i,'BloodExpo_check'] = 'N'\n",
    "    if inchikey in explorer_comb['InChIKey'].tolist():\n",
    "        plastic_chem.loc[i,'ExposomeExplorer_check'] = 'Y'\n",
    "    else:\n",
    "        plastic_chem.loc[i,'ExposomeExplorer_check'] = 'N'\n",
    "    if inchikey in plastic_est_paper['InChI_key'].tolist():\n",
    "        function_values = plastic_est_paper.loc[plastic_est_paper['InChI_key'] == inchikey, 'Function'].values\n",
    "        polymer_values = plastic_est_paper.loc[plastic_est_paper['InChI_key'] == inchikey, 'Polymer'].values\n",
    "        EU_production_values = plastic_est_paper.loc[plastic_est_paper['InChI_key'] == inchikey, 'EU'].values\n",
    "        US_production_values = plastic_est_paper.loc[plastic_est_paper['InChI_key'] == inchikey, 'USA'].values\n",
    "        OECD_production_values = plastic_est_paper.loc[plastic_est_paper['InChI_key'] == inchikey, 'OECD'].values\n",
    "        Total_production_values = plastic_est_paper.loc[plastic_est_paper['InChI_key'] == inchikey, 'Total'].values\n",
    "        \n",
    "        if len(function_values) > 0:\n",
    "            plastic_chem.loc[i,'Function'] = function_values[0]\n",
    "        else:\n",
    "            plastic_chem.loc[i,'Function'] = 'NA'\n",
    "        if len(polymer_values) > 0:\n",
    "            plastic_chem.loc[i,'Polymer'] = polymer_values[0]\n",
    "        else:\n",
    "            plastic_chem.loc[i,'Polymer'] = 'NA'\n",
    "        if len(EU_production_values) > 0:\n",
    "            plastic_chem.loc[i,'EU_production'] = EU_production_values[0]\n",
    "        else:\n",
    "            plastic_chem.loc[i,'EU_production'] = 'NA'\n",
    "        if len(US_production_values) > 0:\n",
    "            plastic_chem.loc[i,'US_production'] = US_production_values[0]\n",
    "        else:\n",
    "            plastic_chem.loc[i,'US_production'] = 'NA'\n",
    "        if len(OECD_production_values) > 0:\n",
    "            plastic_chem.loc[i,'OECD_production'] = OECD_production_values[0]\n",
    "        else:\n",
    "            plastic_chem.loc[i,'OECD_production'] = 'NA'\n",
    "        if len(Total_production_values) > 0:\n",
    "            plastic_chem.loc[i,'Total_production'] = Total_production_values[0]\n",
    "        else:\n",
    "            plastic_chem.loc[i,'Total_production'] = 'NA'\n",
    "    else:\n",
    "        plastic_chem.loc[i,'Function'] = 'NA'\n",
    "        plastic_chem.loc[i,'Polymer'] = 'NA'\n",
    "        plastic_chem.loc[i,'EU_production'] = 'NA'\n",
    "        plastic_chem.loc[i,'US_production'] = 'NA'\n",
    "        plastic_chem.loc[i,'OECD_production'] = 'NA'\n",
    "        plastic_chem.loc[i,'Total_production'] = 'NA'\n",
    "\n",
    "\n",
    "# Drop columns that start with \"ring:\" or \"group:\"\n",
    "columns_to_drop = [col for col in plastic_chem.columns if col.startswith('ring:') or col.startswith('group:')\n",
    "                   or col.startswith('chain:')or col.startswith('bond:')or col.startswith('atom:')]\n",
    "plastic_chem.drop(columns=columns_to_drop, inplace=True)\n",
    "plastic_chem.to_csv('D:/UCSF_postdoc_topic/REVEAL_topics/REVEAL_200samples_analysis/plastic_map_chemlist/Plastic_Chemical_withupated_annotation.csv', index=False)"
   ]
  },
  {
   "cell_type": "code",
   "execution_count": null,
   "metadata": {},
   "outputs": [
    {
     "data": {
      "text/html": [
       "<div>\n",
       "<style scoped>\n",
       "    .dataframe tbody tr th:only-of-type {\n",
       "        vertical-align: middle;\n",
       "    }\n",
       "\n",
       "    .dataframe tbody tr th {\n",
       "        vertical-align: top;\n",
       "    }\n",
       "\n",
       "    .dataframe thead th {\n",
       "        text-align: right;\n",
       "    }\n",
       "</style>\n",
       "<table border=\"1\" class=\"dataframe\">\n",
       "  <thead>\n",
       "    <tr style=\"text-align: right;\">\n",
       "      <th></th>\n",
       "      <th>INPUT</th>\n",
       "      <th>FOUND_BY</th>\n",
       "      <th>DTXSID</th>\n",
       "      <th>PREFERRED_NAME</th>\n",
       "      <th>DTXCID</th>\n",
       "      <th>INCHIKEY</th>\n",
       "      <th>CASRN</th>\n",
       "      <th>SMILES</th>\n",
       "      <th>MS_READY_SMILES</th>\n",
       "      <th>MONOISOTOPIC_MASS</th>\n",
       "      <th>...</th>\n",
       "      <th>TOXCAST_NUMBER_OF_ASSAYS/TOTAL</th>\n",
       "      <th>TOXCAST_PERCENT_ACTIVE</th>\n",
       "      <th>ECHAPLASTICS</th>\n",
       "      <th>CPPDBLISTA</th>\n",
       "      <th>CPPDBLISTB</th>\n",
       "      <th>SMILES_ready</th>\n",
       "      <th>Monoisotopic_Mass_ready</th>\n",
       "      <th>CFMID_ID</th>\n",
       "      <th>BloodExpo_check</th>\n",
       "      <th>ExposomeExplorer_check</th>\n",
       "    </tr>\n",
       "  </thead>\n",
       "  <tbody>\n",
       "    <tr>\n",
       "      <th>2702</th>\n",
       "      <td>DTXSID5020730</td>\n",
       "      <td>DSSTox_Substance_Id</td>\n",
       "      <td>DTXSID5020730</td>\n",
       "      <td>8-Hydroxyquinoline</td>\n",
       "      <td>DTXCID30730</td>\n",
       "      <td>MCJGNVYPOGVAJF-UHFFFAOYSA-N</td>\n",
       "      <td>148-24-3</td>\n",
       "      <td>OC1=CC=CC2=CC=CN=C12</td>\n",
       "      <td>OC1=CC=CC2=CC=CN=C12</td>\n",
       "      <td>145.052764</td>\n",
       "      <td>...</td>\n",
       "      <td>163/598</td>\n",
       "      <td>27.26</td>\n",
       "      <td>-</td>\n",
       "      <td>-</td>\n",
       "      <td>-</td>\n",
       "      <td>Oc1cccc2cccnc12</td>\n",
       "      <td>145.052764</td>\n",
       "      <td>Molecule2703</td>\n",
       "      <td>Y</td>\n",
       "      <td>N</td>\n",
       "    </tr>\n",
       "  </tbody>\n",
       "</table>\n",
       "<p>1 rows × 70 columns</p>\n",
       "</div>"
      ],
      "text/plain": [
       "              INPUT             FOUND_BY         DTXSID      PREFERRED_NAME  \\\n",
       "2702  DTXSID5020730  DSSTox_Substance_Id  DTXSID5020730  8-Hydroxyquinoline   \n",
       "\n",
       "           DTXCID                     INCHIKEY     CASRN  \\\n",
       "2702  DTXCID30730  MCJGNVYPOGVAJF-UHFFFAOYSA-N  148-24-3   \n",
       "\n",
       "                    SMILES       MS_READY_SMILES  MONOISOTOPIC_MASS  ...  \\\n",
       "2702  OC1=CC=CC2=CC=CN=C12  OC1=CC=CC2=CC=CN=C12         145.052764  ...   \n",
       "\n",
       "     TOXCAST_NUMBER_OF_ASSAYS/TOTAL TOXCAST_PERCENT_ACTIVE  ECHAPLASTICS  \\\n",
       "2702                        163/598                  27.26             -   \n",
       "\n",
       "     CPPDBLISTA CPPDBLISTB     SMILES_ready Monoisotopic_Mass_ready  \\\n",
       "2702          -          -  Oc1cccc2cccnc12              145.052764   \n",
       "\n",
       "          CFMID_ID BloodExpo_check ExposomeExplorer_check  \n",
       "2702  Molecule2703               Y                      N  \n",
       "\n",
       "[1 rows x 70 columns]"
      ]
     },
     "execution_count": 34,
     "metadata": {},
     "output_type": "execute_result"
    }
   ],
   "source": [
    "subset_row = plastic_chem[plastic_chem['DTXSID'] == 'DTXSID5020730']"
   ]
  }
 ],
 "metadata": {
  "kernelspec": {
   "display_name": "echoenv",
   "language": "python",
   "name": "python3"
  },
  "language_info": {
   "codemirror_mode": {
    "name": "ipython",
    "version": 3
   },
   "file_extension": ".py",
   "mimetype": "text/x-python",
   "name": "python",
   "nbconvert_exporter": "python",
   "pygments_lexer": "ipython3",
   "version": "3.9.12"
  }
 },
 "nbformat": 4,
 "nbformat_minor": 2
}
