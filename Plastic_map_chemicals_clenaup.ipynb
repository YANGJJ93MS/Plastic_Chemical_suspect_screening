{
 "cells": [
  {
   "cell_type": "code",
   "execution_count": 1,
   "metadata": {},
   "outputs": [],
   "source": [
    "import sys\n",
    "import os\n",
    "import numpy as np\n",
    "import scipy.stats as stats\n",
    "import pandas as pd\n",
    "from sklearn.decomposition import PCA\n",
    "import matplotlib.pyplot as plt\n",
    "import seaborn as sb\n",
    "import random as rd\n",
    "import matplotlib\n",
    "import warnings"
   ]
  },
  {
   "cell_type": "code",
   "execution_count": 3,
   "metadata": {},
   "outputs": [
    {
     "name": "stdout",
     "output_type": "stream",
     "text": [
      "Requirement already satisfied: rdkit in d:\\ucsf_postdoc_topic\\echo_project\\data_analysis\\covid_19_analysis\\echoenv\\lib\\site-packages (2024.3.5)\n",
      "Requirement already satisfied: Pillow in d:\\ucsf_postdoc_topic\\echo_project\\data_analysis\\covid_19_analysis\\echoenv\\lib\\site-packages (from rdkit) (10.4.0)\n",
      "Requirement already satisfied: numpy in d:\\ucsf_postdoc_topic\\echo_project\\data_analysis\\covid_19_analysis\\echoenv\\lib\\site-packages (from rdkit) (2.0.2)\n"
     ]
    },
    {
     "name": "stderr",
     "output_type": "stream",
     "text": [
      "WARNING: You are using pip version 22.0.4; however, version 24.3.1 is available.\n",
      "You should consider upgrading via the 'D:\\UCSF_postdoc_topic\\ECHO_project\\Data_analysis\\covid_19_analysis\\echoenv\\Scripts\\python.exe -m pip install --upgrade pip' command.\n"
     ]
    }
   ],
   "source": [
    "!pip install rdkit\n",
    "!pip install chembl_structure_pipeline"
   ]
  },
  {
   "cell_type": "code",
   "execution_count": 5,
   "metadata": {},
   "outputs": [
    {
     "name": "stderr",
     "output_type": "stream",
     "text": [
      "C:\\Users\\yangj\\AppData\\Local\\Temp\\ipykernel_37060\\3186965980.py:5: DtypeWarning: Columns (19,20,59) have mixed types. Specify dtype option on import or set low_memory=False.\n",
      "  chemical_df = pd.read_csv(path3, encoding='ISO-8859-1')\n"
     ]
    },
    {
     "name": "stdout",
     "output_type": "stream",
     "text": [
      "(6375, 65)\n"
     ]
    }
   ],
   "source": [
    "##the below code is for filtering the chemical list: by selecting the organic compounds from the plasticmap chemical list\n",
    "path3 = 'D:/UCSF_postdoc_topic/ECHO_project/Reprocessed_MSDIAL/CCD-Batch-Search_2024-10-21_07_17_40.csv'\n",
    "\n",
    "# Load the targeted CSV file\n",
    "chemical_df = pd.read_csv(path3, encoding='ISO-8859-1')\n",
    "# Retain rows with available value in SMILES column\n",
    "chemical_df = chemical_df[chemical_df['MS_READY_SMILES'].notna()]\n",
    "# chemical_df = chemical_df[chemical_df['SMILES'].notna()]\n",
    "\n",
    "#remove columns starting with 'ring'and  'bond' and 'group' and 'atom', 'chain'\n",
    "chemical_df = chemical_df.loc[:,~chemical_df.columns.str.startswith('ring')]\n",
    "chemical_df = chemical_df.loc[:,~chemical_df.columns.str.startswith('bond')]\n",
    "chemical_df = chemical_df.loc[:,~chemical_df.columns.str.startswith('group')]\n",
    "chemical_df = chemical_df.loc[:,~chemical_df.columns.str.startswith('atom')]\n",
    "chemical_df = chemical_df.loc[:,~chemical_df.columns.str.startswith('chain')]\n",
    "print(chemical_df.shape)"
   ]
  },
  {
   "cell_type": "code",
   "execution_count": 7,
   "metadata": {},
   "outputs": [
    {
     "name": "stdout",
     "output_type": "stream",
     "text": [
      "Mixture count: 175\n",
      "Individual count: 6200\n"
     ]
    }
   ],
   "source": [
    "##check the number of chemicals are mixtures, salt, and individual compounds\n",
    "##iterate thourgh each row of MS_READY_SMILES column, split the string by ',' and check the length of the list\n",
    "##if the length is greater than 1, then it is a mixture or salt\n",
    "##if the length is equal to 1, then it is an individual compound\n",
    "##count the number of mixture or salt and individual compounds\n",
    "mixture_count = 0\n",
    "individual_count = 0\n",
    "for index, row in chemical_df.iterrows():\n",
    "    if len(row['MS_READY_SMILES'].split(',')) > 1:\n",
    "        mixture_count += 1\n",
    "    else:\n",
    "        individual_count += 1\n",
    "print('Mixture count:', mixture_count)\n",
    "print('Individual count:', individual_count)\n",
    "\n",
    "##filter the chemical list by selecting the individual compounds\n",
    "# chemical_df = chemical_df[chemical_df['MS_READY_SMILES'].apply(lambda x: len(x.split(',')) == 1)]\n",
    "##label the individual chemicals by the number of splitted SMILES strings\n",
    "for index, row in chemical_df.iterrows():\n",
    "    if len(row['MS_READY_SMILES'].split(',')) > 1:\n",
    "        chemical_df.loc[index, 'chemicaltype'] = 'mixture'\n",
    "        chemical_df.loc[index, 'smiles_compenents'] = len(row['MS_READY_SMILES'].split(','))\n",
    "    else:\n",
    "        chemical_df.loc[index, 'chemicaltype'] = 'individual'\n",
    "        chemical_df.loc[index, 'smiles_compenents'] = 1"
   ]
  },
  {
   "cell_type": "code",
   "execution_count": 10,
   "metadata": {},
   "outputs": [
    {
     "name": "stdout",
     "output_type": "stream",
     "text": [
      "+------+----------------+---------------------+----------------+-------------------------------------------------------------------+-----------------+-----------------------------+------------+----------------------------------------------------------------------+----------------------------------------------------------------------+---------+-----------+-+---+-----+-----------------------------------------------------------------------------------------------------------------------------------------------------------+-------------------------------------------------------------------+-----+---------+-----+-----+-----+---+----+-----+---+-----+-----+-----+-----+-----+-----+-----+-----+-----+-----+-----+-----+-----+-----+-----+-----+-----+-----+-----+-----+-----+-----+-----+-----+-----+-----+-----+--------+-----+-----+-----+-----+-----+-----+-----+-----+-----+---+---+---+---------+---+\n",
      "| 7432 | DTXSID60988350 | DSSTox_Substance_Id | DTXSID60988350 | Diphenyl methylphosphonate--4,4'-(propane-2,2-diyl)diphenol (1/1) | DTXCID401415494 | BGOVZUITOWENCB-UHFFFAOYSA-N | 68664-06-2 | CC(C)(C1=CC=C(O)C=C1)C1=CC=C(O)C=C1.CP(=O)(OC1=CC=CC=C1)OC1=CC=CC=C1 | CP(=O)(OC1=CC=CC=C1)OC1=CC=CC=C1,CC(C)(C1=CC=C(O)C=C1)C1=CC=C(O)C=C1 | 476.175 | C28H29O5P | 0\t0\t0\t0\t0\t0\t0\t0\t0\t0\t0\t0\t0\t0\t0\t0\t0\t0\t0\t0\t0\t0\t0\t0\t0\t0\t0\t0\t0\t0\t0\t0\t0\t0\t0\t0\t0\t0\t0\t0\t0\t0\t0\t0\t0\t0\t0\t0\t0\t0\t0\t0\t0\t0\t0\t0\t0\t0\t0\t0\t0\t0\t0\t0\t0\t0\t0\t0\t0\t0\t0\t0\t0\t0\t0\t0\t0\t0\t0\t0\t0\t0\t0\t0\t0\t0\t0\t0\t0\t0\t0\t0\t0\t0\t0\t0\t0\t0\t0\t0\t0\t0\t0\t0\t0\t0\t0\t0\t0\t0\t0\t0\t0\t0\t0\t0\t0\t0\t0\t0\t0\t0\t1\t1\t0\t0\t0\t0\t1\t0\t0\t0\t0\t0\t0\t0\t0\t0\t0\t0\t0\t0\t0\t0\t0\t0\t0\t0\t0\t0\t0\t0\t0\t0\t0\t0\t0\t0\t0\t0\t0\t0\t0\t0\t0\t0\t0\t0\t0\t0\t0\t0\t0\t0\t0\t0\t0\t0\t0\t0\t0\t0\t0\t0\t0\t0\t0\t0\t0\t0\t0\t0\t0\t0\t0\t0\t0\t0\t0\t0\t0\t0\t0\t0\t0\t0\t0\t0\t0\t0\t0\t0\t0\t0\t0\t0\t0\t0\t0\t0\t0\t0\t0\t0\t0\t0\t0\t0\t0\t0\t0\t0\t0\t0\t0\t0\t0\t0\t0\t0\t0\t0\t0\t0\t0\t0\t0\t0\t0\t0\t1\t1\t0\t1\t0\t0\t0\t0\t0\t0\t0\t0\t0\t0\t0\t0\t0\t0\t0\t0\t0\t0\t0\t0\t0\t0\t0\t0\t0\t0\t0\t0\t0\t0\t0\t0\t0\t0\t0\t0\t0\t0\t0\t0\t0\t0\t0\t0\t0\t0\t0\t0\t0\t0\t0\t0\t0\t0\t0\t0\t0\t0\t0\t0\t0\t0\t0\t0\t0\t0\t0\t0\t0\t0\t0\t0\t0\t0\t0\t0\t0\t0\t0\t0\t0\t0\t0\t0\t0\t0\t0\t0\t0\t0\t0\t0\t0\t0\t0\t0\t0\t0\t0\t0\t0\t0\t0\t0\t0\t0\t0\t0\t0\t0\t0\t0\t0\t0\t0\t0\t0\t0\t0\t0\t0\t0\t0\t0\t0\t0\t0\t0\t0\t0\t0\t0\t0\t0\t0\t0\t0\t0\t0\t0\t0\t0\t0\t0\t0\t0\t0\t0\t0\t0\t0\t0\t0\t0\t0\t0\t0\t0\t0\t0\t0\t0\t0\t0\t0\t0\t0\t0\t0\t1\t0\t0\t0\t0\t0\t0\t0\t0\t0\t0\t0\t0\t0\t1\t0\t0\t0\t0\t0\t0\t0\t0\t0\t0\t0\t0\t0\t0\t0\t0\t0\t0\t0\t0\t0\t0\t0\t0\t0\t0\t0\t0\t0\t0\t0\t0\t0\t0\t0\t1\t0\t1\t1\t0\t1\t0\t0\t0\t0\t0\t0\t0\t0\t0\t0\t0\t0\t0\t0\t0\t0\t0\t0\t0\t0\t0\t0\t0\t0\t0\t0\t0\t0\t0\t0\t0\t0\t0\t0\t0\t0\t0\t0\t0\t0\t0\t0\t0\t0\t0\t0\t0\t0\t0\t0\t0\t0\t0\t0\t0\t0\t0\t0\t0\t0\t0\t0\t0\t0\t0\t0\t0\t0\t0\t0\t0\t0\t0\t0\t0\t0\t0\t0\t0\t0\t0\t0\t0\t0\t0\t0\t0\t0\t0\t0\t0\t0\t0\t0\t0\t0\t0\t0\t0\t0\t0\t0\t0\t0\t0\t0\t1\t0\t1\t0\t0\t0\t0\t0\t0\t0\t0\t0\t0\t0\t0\t0\t0\t0\t0\t0\t0\t0\t0\t0\t0\t0\t0\t0\t0\t0\t0\t0\t0\t0\t0\t0\t0\t0\t0\t0\t0\t0\t0\t0\t0\t0\t0\t0\t0\t0\t0\t0\t0\t0\t0\t0\t0\t0\t0\t0\t0\t0\t0\t0\t0\t0\t0\t0\t0\t0\t0\t0\t0\t0\t0\t0\t0\t0\t0\t0\t0\t0\t0\t0\t0\t0\t0\t0\t0\t0\t0\t0\t0\t0\t0\t0\t0\t0\t0\t0\t0\t0\t0\t0\t0\t0\t0\t0\t0\t0\t0\t0\t0\t0\t0\t0\t0\t0\t0\t0\t0\t0\t0\t0\t0\t0\t0\t0\t0\t0\t0\t0\t0\t0\t0\t0\t0\t0\t0\t0\t0\t0\t0\t0  | 2 | nan | InChI=1S/C15H16O2.C13H13O3P/c1-15(2,11-3-7-13(16)8-4-11)12-5-9-14(17)10-6-12;1-17(14,15-12-8-4-2-5-9-12)16-13-10-6-3-7-11-13/h3-10,16-17H,1-2H3;2-11H,1H3 | Diphenyl methylphosphonate--4,4'-(propane-2,2-diyl)diphenol (1/1) | nan | 476.509 | nan | nan | nan | Y | 15 | nan | Y | nan | nan | nan | nan | nan | nan | nan | nan | nan | nan | nan | nan | nan | nan | nan | nan | nan | nan | nan | nan | nan | nan | nan | nan | nan | nan | nan | 10.293 | nan | nan | nan | nan | nan | nan | nan | nan | nan | - | - | - | mixture | 2 |\n",
      "+------+----------------+---------------------+----------------+-------------------------------------------------------------------+-----------------+-----------------------------+------------+----------------------------------------------------------------------+----------------------------------------------------------------------+---------+-----------+-+---+-----+-----------------------------------------------------------------------------------------------------------------------------------------------------------+-------------------------------------------------------------------+-----+---------+-----+-----+-----+---+----+-----+---+-----+-----+-----+-----+-----+-----+-----+-----+-----+-----+-----+-----+-----+-----+-----+-----+-----+-----+-----+-----+-----+-----+-----+-----+-----+-----+-----+--------+-----+-----+-----+-----+-----+-----+-----+-----+-----+---+---+---+---------+---+\n"
     ]
    }
   ],
   "source": [
    "import tabulate\n",
    "smiles_ = chemical_df.loc[chemical_df['INPUT']=='DTXSID60988350']\n",
    "print(tabulate.tabulate(smiles_, tablefmt='grid'))"
   ]
  },
  {
   "cell_type": "code",
   "execution_count": 12,
   "metadata": {},
   "outputs": [
    {
     "name": "stderr",
     "output_type": "stream",
     "text": [
      "[22:57:59] WARNING: not removing hydrogen atom without neighbors\n",
      "[22:57:59] Explicit valence for atom # 16 O, 3, is greater than permitted\n",
      "[22:57:59] Explicit valence for atom # 4 Al, 7, is greater than permitted\n",
      "[22:57:59] WARNING: not removing hydrogen atom without neighbors\n",
      "[22:57:59] WARNING: not removing hydrogen atom without neighbors\n",
      "[22:57:59] WARNING: not removing hydrogen atom without neighbors\n",
      "[22:57:59] WARNING: not removing hydrogen atom without neighbors\n",
      "[22:57:59] WARNING: not removing hydrogen atom without neighbors\n",
      "[22:57:59] WARNING: not removing hydrogen atom without neighbors\n",
      "[22:57:59] WARNING: not removing hydrogen atom without neighbors\n",
      "[22:58:00] Explicit valence for atom # 4 Sn, 6, is greater than permitted\n",
      "[22:58:00] WARNING: not removing hydrogen atom without neighbors\n",
      "[22:58:00] WARNING: not removing hydrogen atom without neighbors\n",
      "[22:58:00] WARNING: not removing hydrogen atom without neighbors\n",
      "[22:58:00] WARNING: not removing hydrogen atom without neighbors\n",
      "[22:58:00] WARNING: not removing hydrogen atom without neighbors\n",
      "[22:58:01] Explicit valence for atom # 8 Al, 9, is greater than permitted\n",
      "[22:58:01] WARNING: not removing hydrogen atom without neighbors\n",
      "[22:58:01] WARNING: not removing hydrogen atom without neighbors\n",
      "[22:58:01] WARNING: not removing hydrogen atom without neighbors\n",
      "[22:58:01] Explicit valence for atom # 0 B, 6, is greater than permitted\n",
      "[22:58:01] WARNING: not removing hydrogen atom without neighbors\n",
      "[22:58:01] WARNING: not removing hydrogen atom without neighbors\n",
      "[22:58:02] WARNING: not removing hydrogen atom without neighbors\n",
      "[22:58:02] WARNING: not removing hydrogen atom without neighbors\n",
      "[22:58:02] WARNING: not removing hydrogen atom without neighbors\n",
      "[22:58:02] WARNING: not removing hydrogen atom without neighbors\n",
      "[22:58:02] WARNING: not removing hydrogen atom without neighbors\n",
      "[22:58:02] WARNING: not removing hydrogen atom without neighbors\n",
      "[22:58:02] WARNING: not removing hydrogen atom without neighbors\n",
      "[22:58:02] WARNING: not removing hydrogen atom without neighbors\n",
      "[22:58:02] WARNING: not removing hydrogen atom without neighbors\n",
      "[22:58:02] WARNING: not removing hydrogen atom without neighbors\n",
      "[22:58:02] WARNING: not removing hydrogen atom without neighbors\n",
      "[22:58:02] WARNING: not removing hydrogen atom without neighbors\n",
      "[22:58:02] WARNING: not removing hydrogen atom without neighbors\n",
      "[22:58:02] WARNING: not removing hydrogen atom without neighbors\n"
     ]
    }
   ],
   "source": [
    "from rdkit import Chem\n",
    "from rdkit.Chem import Descriptors\n",
    "from rdkit.Chem.rdmolops import RemoveHs\n",
    "\n",
    "# Function to sanitize the SMILES\n",
    "def sanitize_smiles(smiles):\n",
    "    try:\n",
    "        mol = Chem.MolFromSmiles(smiles)\n",
    "        if mol is None:\n",
    "            return None, None\n",
    "\n",
    "        # Remove fragments after removing salts\n",
    "        frags = Chem.GetMolFrags(mol, asMols=True, sanitizeFrags=False)\n",
    "        mol = max(frags, default=None, key=lambda m: m.GetNumAtoms())\n",
    "        if mol is None:\n",
    "            return None, None\n",
    "\n",
    "        # Attempt to sanitize molecule\n",
    "        Chem.SanitizeMol(mol)\n",
    "\n",
    "        # Standardize and calculate monoisotopic mass\n",
    "        standardized_smiles = Chem.MolToSmiles(mol, isomericSmiles=True)\n",
    "        monoisotopic_mass = Descriptors.ExactMolWt(mol)\n",
    "        \n",
    "        return standardized_smiles, monoisotopic_mass\n",
    "    except Exception as e:\n",
    "        print(f\"Error sanitizing SMILES {smiles}: {e}\")\n",
    "        return None, None\n",
    "\n",
    "SMILES_ready =[]\n",
    "Monoisotopic_Mass_ready =[]\n",
    "for smiles in chemical_df['SMILES']:\n",
    "    standardized_smiles, monoisotopic_mass = sanitize_smiles(smiles)\n",
    "    if standardized_smiles:\n",
    "        SMILES_ready.append(standardized_smiles)\n",
    "        Monoisotopic_Mass_ready.append(monoisotopic_mass)\n",
    "    else:\n",
    "        SMILES_ready.append('NA')\n",
    "        Monoisotopic_Mass_ready.append('NA')\n",
    "chemical_df['SMILES_ready'] = SMILES_ready\n",
    "chemical_df['Monoisotopic_Mass_ready'] = Monoisotopic_Mass_ready"
   ]
  },
  {
   "cell_type": "code",
   "execution_count": 45,
   "metadata": {},
   "outputs": [
    {
     "name": "stdout",
     "output_type": "stream",
     "text": [
      "Filtering complete. The filtered list has been saved as 'Filtered_Chemical_List.csv'.\n",
      "original chemical list: (5438, 69)\n",
      "filtered chemical list with individual compounds: (5278, 69)\n",
      "filtered chemical list with individual compounds, unquie SMILES_ready: 5059\n"
     ]
    }
   ],
   "source": [
    "#clean up targeted molecule list, retain organic molecules only\n",
    "import pandas as pd\n",
    "from rdkit import Chem\n",
    "\n",
    "# # Retain rows with available value in SMILES column\n",
    "chemical_df = chemical_df[chemical_df['SMILES_ready'].notna()]\n",
    "\n",
    "# Convert 'MONOISOTOPIC MASS' column to numeric, forcing errors to NaN\n",
    "chemical_df['Monoisotopic_Mass_ready'] = pd.to_numeric(chemical_df['Monoisotopic_Mass_ready'], errors='coerce')\n",
    "\n",
    "# Drop rows with NaN in 'MONOISOTOPIC MASS'\n",
    "chemical_df = chemical_df[chemical_df['Monoisotopic_Mass_ready'].notna()]\n",
    "\n",
    "# Function to strictly determine if a molecule is organic\n",
    "def is_organic(smiles):\n",
    "    mol = Chem.MolFromSmiles(smiles)\n",
    "    if mol is None:\n",
    "        return False  # invalid SMILES\n",
    "    organic_elements = {'C', 'H', 'N', 'O', 'P', 'S', 'F', 'Cl', 'Br', 'I'}  # Common organic elements\n",
    "    inorganic_elements = {'Li', 'Be', 'Na', 'Mg', 'Al', 'K', 'Ca', 'Sc', 'Ti', 'V', 'Cr', 'Mn', 'Fe', 'Co', 'Ni', 'Cu', 'Zn', 'Ga', 'Rb', 'Sr', 'Y', 'Zr', 'Nb', 'Mo', 'Tc', 'Ru', 'Rh', 'Pd', 'Ag', 'Cd', 'In', 'Sn', 'Sb', 'Cs', 'Ba', 'La', 'Ce', 'Pr', 'Nd', 'Pm', 'Sm', 'Eu', 'Gd', 'Tb', 'Dy', 'Ho', 'Er', 'Tm', 'Yb', 'Lu', 'Hf', 'Ta', 'W', 'Re', 'Os', 'Ir', 'Pt', 'Au', 'Hg', 'Tl', 'Pb', 'Bi', 'Th', 'U'}\n",
    "    contains_carbon = False\n",
    "    for atom in mol.GetAtoms():\n",
    "        symbol = atom.GetSymbol()\n",
    "        if symbol in inorganic_elements:\n",
    "            return False  # Contains metal or other inorganic elements\n",
    "        if symbol not in organic_elements:\n",
    "            return False  # Contains uncommon elements for organic molecules\n",
    "        if symbol == 'C':\n",
    "            contains_carbon = True\n",
    "    if contains_carbon:\n",
    "        return True\n",
    "    \n",
    "    # return contains_carbon\n",
    "    return False\n",
    "\n",
    "# Step 1: Filter rows with available MW (MONOISOTOPIC MASS) between 100 and 1000 and classified as organic\n",
    "filtered_df = []\n",
    "for index, row in chemical_df.iterrows():\n",
    "    smiles = row['SMILES_ready']  # Assuming the SMILES column is named 'SMILES'\n",
    "    mw = row['Monoisotopic_Mass_ready']  # Assuming the column is named 'MONOISOTOPIC MASS'\n",
    "    if 100 <= mw <= 1000:\n",
    "        if is_organic(smiles):\n",
    "            filtered_df.append(row)\n",
    "\n",
    "# Create a new DataFrame from the filtered rows\n",
    "filtered_df = pd.DataFrame(filtered_df)\n",
    "filtered_individual_df = filtered_df.loc[filtered_df['chemicaltype'] == 'individual']\n",
    "\n",
    "# Save the filtered DataFrame to a new CSV file\n",
    "# filtered_df.to_csv('D:/UCSF_postdoc_topic/ECHO_project/Reprocessed_MSDIAL/Filtered_Chemical_List.csv', index=False)\n",
    "print(\"Filtering complete. The filtered list has been saved as 'Filtered_Chemical_List.csv'.\")\n",
    "# filtered_df.drop_duplicates(subset= 'DTXSID', inplace=True)\n",
    "print(\"original chemical list:\", filtered_df.shape)\n",
    "print(\"filtered chemical list with individual compounds:\", filtered_individual_df.shape)\n",
    "print('filtered chemical list with individual compounds, unquie SMILES_ready:', filtered_individual_df['SMILES_ready'].nunique())\n",
    "# filtered_df.to_csv('D:/UCSF_postdoc_topic/REVEAL_topics/REVEAL_200samples_analysis/Plastic_map_chemicallist_match/Plastic_Chemical_List_organic.csv', index=False)\n",
    "filtered_individual_df.to_csv('D:/UCSF_postdoc_topic/REVEAL_topics/REVEAL_200samples_analysis/plastic_map_chemlist/Plastic_Chemical_List_organic_individual_chemical_20241227.csv', index=False)\n",
    "#export for biontransformation using biotransformer3\n",
    "# Export_Transformation = filtered_df[['SMILES_ready']]\n",
    "# Export_Transformation.to_csv('D:/UCSF_postdoc_topic/REVEAL_topics/First100_batch/Plastic_Chemical_List_organic_forEPA_CTS.txt', index=False)"
   ]
  },
  {
   "cell_type": "markdown",
   "metadata": {},
   "source": [
    "################searching chemicals with in blood exposome database and the WHO explorer database"
   ]
  },
  {
   "cell_type": "code",
   "execution_count": 46,
   "metadata": {},
   "outputs": [
    {
     "name": "stderr",
     "output_type": "stream",
     "text": [
      "[23:59:55] WARNING: not removing hydrogen atom without neighbors\n",
      "[23:59:55] Explicit valence for atom # 5 Cl, 3, is greater than permitted\n",
      "[23:59:55] Explicit valence for atom # 4 Cl, 3, is greater than permitted\n",
      "[23:59:57] Explicit valence for atom # 7 Br, 3, is greater than permitted\n",
      "[23:59:57] Explicit valence for atom # 20 Cl, 3, is greater than permitted\n",
      "[23:59:58] Explicit valence for atom # 6 Cl, 5, is greater than permitted\n",
      "[23:59:59] Explicit valence for atom # 3 Cl, 3, is greater than permitted\n",
      "[00:00:00] Explicit valence for atom # 5 Br, 3, is greater than permitted\n",
      "[00:00:00] Explicit valence for atom # 9 Cl, 3, is greater than permitted\n",
      "[00:00:06] WARNING: not removing hydrogen atom without neighbors\n"
     ]
    }
   ],
   "source": [
    "import pandas as pd\n",
    "from rdkit import Chem\n",
    "from rdkit.Chem import MolToSmiles\n",
    "##cross refrence, cross check with blood exposome database\n",
    "bloodexpo_dat = pd.read_csv(\"D:/UCSF_postdoc_topic/REVEAL_topics/references/blood_exposome_database/blood_exposome_chemicals_july_2023.csv\")\n",
    "\n",
    "# Step 1: Filter rows with available MW (MONOISOTOPIC MASS) between 100 and 1000 and classified as organic\n",
    "bloodexpo_modified = []\n",
    "for index, row in bloodexpo_dat.iterrows():\n",
    "    smiles = row['CanonicalSMILES']  # Assuming the SMILES column is named 'SMILES'\n",
    "    mol = Chem.MolFromSmiles(smiles)\n",
    "    canonical_smiles = Chem.MolToSmiles(mol, canonical=True) if mol else None\n",
    "    bloodexpo_modified.append({\n",
    "        **row,\n",
    "        \"SMILES_ready\": canonical_smiles})\n",
    "\n",
    "# Create a new DataFrame from the filtered rows\n",
    "bloodexpo_modified = pd.DataFrame(bloodexpo_modified)"
   ]
  },
  {
   "cell_type": "code",
   "execution_count": 50,
   "metadata": {},
   "outputs": [],
   "source": [
    "Explorer = pd.read_csv('D:/UCSF_postdoc_topic/REVEAL_topics/references/WHO_exposome_explorer/biomarkers_exposome_explorer.csv')\n",
    "Explorer.dropna(subset=['SMILES'], inplace=True)\n",
    "# Step 1: Filter rows with available MW (MONOISOTOPIC MASS) between 100 and 1000 and classified as organic\n",
    "expo_modified = []\n",
    "for index, row in Explorer.iterrows():\n",
    "    smiles = row['SMILES']  # Assuming the SMILES column is named 'SMILES'\n",
    "    mol = Chem.MolFromSmiles(smiles)\n",
    "    canonical_smiles = Chem.MolToSmiles(mol, canonical=True) if mol else None\n",
    "    expo_modified.append({\n",
    "        **row,\n",
    "        \"SMILES_ready\": canonical_smiles})\n",
    "\n",
    "# Create a new DataFrame from the filtered rows\n",
    "expo_modified = pd.DataFrame(expo_modified)\n",
    "\n",
    "Explorer_bac = pd.read_csv('D:/UCSF_postdoc_topic/REVEAL_topics/references/WHO_exposome_explorer/microbial_metabolites_explorer.csv')\n",
    "Explorer_bac.dropna(subset=['SMILES'], inplace=True)\n",
    "# Step 1: Filter rows with available MW (MONOISOTOPIC MASS) between 100 and 1000 and classified as organic\n",
    "expobac_modified = []\n",
    "for index, row in Explorer_bac.iterrows():\n",
    "    smiles = row['SMILES']  # Assuming the SMILES column is named 'SMILES'\n",
    "    mol = Chem.MolFromSmiles(smiles)\n",
    "    canonical_smiles = Chem.MolToSmiles(mol, canonical=True) if mol else None\n",
    "    expobac_modified.append({\n",
    "        **row,\n",
    "        \"SMILES_ready\": canonical_smiles})\n",
    "\n",
    "# Create a new DataFrame from the filtered rows\n",
    "expobac_modified = pd.DataFrame(expobac_modified)\n",
    "explorer_comb = pd.concat([expo_modified, expobac_modified], axis=0)"
   ]
  },
  {
   "cell_type": "code",
   "execution_count": 55,
   "metadata": {},
   "outputs": [],
   "source": [
    "plastic_est_paper = pd.read_csv('D:/UCSF_postdoc_topic/REVEAL_topics/plastic_related_chemicals/plasticmap_from_ESTpaper.csv',encoding='ISO-8859-1')\n",
    "plastic_chem = pd.read_csv('D:/UCSF_postdoc_topic/REVEAL_topics/REVEAL_200samples_analysis/plastic_map_chemlist/Plastic_Chemical_List_organic_individual_chemical_20241227.csv')"
   ]
  },
  {
   "cell_type": "code",
   "execution_count": 56,
   "metadata": {},
   "outputs": [],
   "source": [
    "#add comments of the cross check with blood expo and exposome explorer, and plastic_est_paper to the orignial plastic_chem list\n",
    "for i,row in plastic_chem.iterrows():\n",
    "    inchikey = row['INCHIKEY']\n",
    "    smiles = row['SMILES_ready']\n",
    "    if inchikey in bloodexpo_modified['InChIKey'].tolist():\n",
    "        plastic_chem.loc[i,'BloodExpo_check'] = 'Y'\n",
    "    else:\n",
    "        plastic_chem.loc[i,'BloodExpo_check'] = 'N'\n",
    "    if inchikey in explorer_comb['InChIKey'].tolist():\n",
    "        plastic_chem.loc[i,'ExposomeExplorer_check'] = 'Y'\n",
    "    else:\n",
    "        plastic_chem.loc[i,'ExposomeExplorer_check'] = 'N'\n",
    "    if inchikey in plastic_est_paper['InChI_key'].tolist():\n",
    "        function_values = plastic_est_paper.loc[plastic_est_paper['InChI_key'] == inchikey, 'Function'].values\n",
    "        polymer_values = plastic_est_paper.loc[plastic_est_paper['InChI_key'] == inchikey, 'Polymer'].values\n",
    "        industry_values = plastic_est_paper.loc[plastic_est_paper['InChI_key'] == inchikey, 'Industrial_Sector'].values\n",
    "        EU_production_values = plastic_est_paper.loc[plastic_est_paper['InChI_key'] == inchikey, 'EU'].values\n",
    "        US_production_values = plastic_est_paper.loc[plastic_est_paper['InChI_key'] == inchikey, 'USA'].values\n",
    "        OECD_production_values = plastic_est_paper.loc[plastic_est_paper['InChI_key'] == inchikey, 'OECD'].values\n",
    "        Total_production_values = plastic_est_paper.loc[plastic_est_paper['InChI_key'] == inchikey, 'Total'].values\n",
    "        \n",
    "        if len(function_values) > 0:\n",
    "            plastic_chem.loc[i,'Function'] = function_values[0]\n",
    "        else:\n",
    "            plastic_chem.loc[i,'Function'] = 'NA'\n",
    "        if len(polymer_values) > 0:\n",
    "            plastic_chem.loc[i,'Polymer'] = polymer_values[0]\n",
    "        else:\n",
    "            plastic_chem.loc[i,'Polymer'] = 'NA'\n",
    "        if len(industry_values) > 0:\n",
    "            plastic_chem.loc[i,'Industrial_Sector'] = industry_values[0]\n",
    "        else:\n",
    "            plastic_chem.loc[i,'Industrial_Sector'] = 'NA'\n",
    "        if len(EU_production_values) > 0:\n",
    "            plastic_chem.loc[i,'EU_production'] = EU_production_values[0]\n",
    "        else:\n",
    "            plastic_chem.loc[i,'EU_production'] = 'NA'\n",
    "        if len(US_production_values) > 0:\n",
    "            plastic_chem.loc[i,'US_production'] = US_production_values[0]\n",
    "        else:\n",
    "            plastic_chem.loc[i,'US_production'] = 'NA'\n",
    "        if len(OECD_production_values) > 0:\n",
    "            plastic_chem.loc[i,'OECD_production'] = OECD_production_values[0]\n",
    "        else:\n",
    "            plastic_chem.loc[i,'OECD_production'] = 'NA'\n",
    "        if len(Total_production_values) > 0:\n",
    "            plastic_chem.loc[i,'Total_production'] = Total_production_values[0]\n",
    "        else:\n",
    "            plastic_chem.loc[i,'Total_production'] = 'NA'\n",
    "    else:\n",
    "        plastic_chem.loc[i,'Function'] = 'NA'\n",
    "        plastic_chem.loc[i,'Polymer'] = 'NA'\n",
    "        plastic_chem.loc[i,'EU_production'] = 'NA'\n",
    "        plastic_chem.loc[i,'US_production'] = 'NA'\n",
    "        plastic_chem.loc[i,'OECD_production'] = 'NA'\n",
    "        plastic_chem.loc[i,'Total_production'] = 'NA'\n",
    "\n",
    "\n",
    "# Drop columns that start with \"ring:\" or \"group:\"\n",
    "columns_to_drop = [col for col in plastic_chem.columns if col.startswith('ring:') or col.startswith('group:')\n",
    "                   or col.startswith('chain:')or col.startswith('bond:')or col.startswith('atom:')]\n",
    "plastic_chem.drop(columns=columns_to_drop, inplace=True)\n",
    "plastic_chem.to_csv('D:/UCSF_postdoc_topic/REVEAL_topics/REVEAL_200samples_analysis/plastic_map_chemlist/Plastic_Chemical_withupated_annotation_20241228.csv', index=False)"
   ]
  },
  {
   "cell_type": "code",
   "execution_count": 36,
   "metadata": {},
   "outputs": [
    {
     "name": "stdout",
     "output_type": "stream",
     "text": [
      "COCCCO\n"
     ]
    },
    {
     "name": "stderr",
     "output_type": "stream",
     "text": [
      "[23:32:26] Running Uncharger\n",
      "[23:32:26] Running Uncharger\n"
     ]
    }
   ],
   "source": [
    "# import chembl_structure_pipeline\n",
    "# from chembl_structure_pipeline import standardizer\n",
    "\n",
    "# smile = 'CC(O)=O.COCCCO'\n",
    "# # Standardize the SMILES\n",
    "# smilemolblock = Chem.MolToMolBlock(Chem.MolFromSmiles(smile))\n",
    "# standardized_smiles, _ = standardizer.get_parent_molblock(smilemolblock)\n",
    "# std_smiles = Chem.MolToSmiles(Chem.MolFromMolBlock(standardized_smiles))\n",
    "# print(std_smiles)"
   ]
  }
 ],
 "metadata": {
  "kernelspec": {
   "display_name": "echoenv",
   "language": "python",
   "name": "python3"
  },
  "language_info": {
   "codemirror_mode": {
    "name": "ipython",
    "version": 3
   },
   "file_extension": ".py",
   "mimetype": "text/x-python",
   "name": "python",
   "nbconvert_exporter": "python",
   "pygments_lexer": "ipython3",
   "version": "3.9.12"
  }
 },
 "nbformat": 4,
 "nbformat_minor": 2
}
