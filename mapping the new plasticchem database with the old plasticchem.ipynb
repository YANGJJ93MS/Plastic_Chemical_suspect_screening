{
 "cells": [
  {
   "cell_type": "code",
   "execution_count": 38,
   "metadata": {},
   "outputs": [],
   "source": [
    "#matching old plastic chemical database with new plastic chemical database\n",
    "import pandas as pd\n",
    "plastic_chem = pd.read_csv('D:/UCSF_postdoc_topic/REVEAL_topics/REVEAL_200samples_analysis/plastic_map_chemlist/Plastic_Chemical_withupated_annotation_20241228.csv')"
   ]
  },
  {
   "cell_type": "code",
   "execution_count": 39,
   "metadata": {},
   "outputs": [
    {
     "name": "stdout",
     "output_type": "stream",
     "text": [
      "(13, 72)\n"
     ]
    },
    {
     "data": {
      "text/plain": [
       "Index(['Unnamed: 0', 'INPUT', 'FOUND_BY', 'DTXSID', 'PREFERRED_NAME', 'DTXCID',\n",
       "       'INCHIKEY', 'CASRN', 'SMILES', 'MS_READY_SMILES', 'MONOISOTOPIC_MASS',\n",
       "       'MOLECULAR_FORMULA', 'TOXPRINTS_FINGERPRINT', 'QC_LEVEL', 'QC_NOTES',\n",
       "       'INCHI_STRING', 'IUPAC_NAME', 'QSAR_READY_SMILES', 'AVERAGE_MASS',\n",
       "       'WIKIPEDIA_ARTICLE', 'PPRTV_LINK', 'IRIS_LINK', 'TOXVAL_DATA',\n",
       "       'DATA_SOURCES', 'EXPOCAST', 'SAFETY_DATA',\n",
       "       'BIOCONCENTRATION_FACTOR_TEST_PRED', 'BOILING_POINT_DEGC_TEST_PRED',\n",
       "       '48HR_DAPHNIA_LC50_MOL/L_TEST_PRED', 'DENSITY_G/CM^3_TEST_PRED',\n",
       "       'DEVTOX_TEST_PRED', '96HR_FATHEAD_MINNOW_MOL/L_TEST_PRED',\n",
       "       'FLASH_POINT_DEGC_TEST_PRED', 'MELTING_POINT_DEGC_TEST_PRED',\n",
       "       'AMES_MUTAGENICITY_TEST_PRED', 'ORAL_RAT_LD50_MOL/KG_TEST_PRED',\n",
       "       'SURFACE_TENSION_DYN/CM_TEST_PRED',\n",
       "       'THERMAL_CONDUCTIVITY_MW/(M*K)_TEST_PRED',\n",
       "       'TETRAHYMENA_PYRIFORMIS_IGC50_MOL/L_TEST_PRED',\n",
       "       'VISCOSITY_CP_CP_TEST_PRED', 'VAPOR_PRESSURE_MMHG_TEST_PRED',\n",
       "       'WATER_SOLUBILITY_MOL/L_TEST_PRED',\n",
       "       'ATMOSPHERIC_HYDROXYLATION_RATE_(AOH)_CM3/MOLECULE*SEC_OPERA_PRED',\n",
       "       'BIOCONCENTRATION_FACTOR_OPERA_PRED',\n",
       "       'BIODEGRADATION_HALF_LIFE_DAYS_DAYS_OPERA_PRED',\n",
       "       'BOILING_POINT_DEGC_OPERA_PRED', 'HENRYS_LAW_ATM-M3/MOLE_OPERA_PRED',\n",
       "       'OPERA_KM_DAYS_OPERA_PRED',\n",
       "       'OCTANOL_AIR_PARTITION_COEFF_LOGKOA_OPERA_PRED',\n",
       "       'SOIL_ADSORPTION_COEFFICIENT_KOC_L/KG_OPERA_PRED',\n",
       "       'OCTANOL_WATER_PARTITION_LOGP_OPERA_PRED',\n",
       "       'MELTING_POINT_DEGC_OPERA_PRED', 'OPERA_PKAA_OPERA_PRED',\n",
       "       'OPERA_PKAB_OPERA_PRED', 'VAPOR_PRESSURE_MMHG_OPERA_PRED',\n",
       "       'WATER_SOLUBILITY_MOL/L_OPERA_PRED', 'LOGD5.5', 'LOGD7.4',\n",
       "       'READY_BIO_DEG', 'EXPOCAST_MEDIAN_EXPOSURE_PREDICTION_MG/KG-BW/DAY',\n",
       "       'NHANES', 'TOXCAST_NUMBER_OF_ASSAYS/TOTAL', 'TOXCAST_PERCENT_ACTIVE',\n",
       "       'ECHAPLASTICS', 'CPPDBLISTA', 'CPPDBLISTB', 'SMILES_ready',\n",
       "       'Monoisotopic_Mass_ready', 'Name', 'PredRT_rtip', 'predRT_higher',\n",
       "       'predRT_lower'],\n",
       "      dtype='object')"
      ]
     },
     "execution_count": 39,
     "metadata": {},
     "output_type": "execute_result"
    }
   ],
   "source": [
    "#matching predicted RT\n",
    "RetipRT = pd.read_csv('D:/UCSF_postdoc_topic/REVEAL_topics/REVEAL_200samples_analysis/RT_prediction/PlasticChem_predRT.csv')\n",
    "#matching CFM-ID\n",
    "CFMID = pd.read_table('D:/UCSF_postdoc_topic/REVEAL_topics/REVEAL_200samples_analysis/CFM_prediction/CFMID_MSready_5144.txt',sep='\\t',header=None)\n",
    "CFMID.columns = ['CFMID','SMILES']\n",
    "\n",
    "nan_row = RetipRT[RetipRT['PredRT_rtip'].isnull()]\n",
    "print(nan_row.shape)\n",
    "RetipRT.columns"
   ]
  },
  {
   "cell_type": "code",
   "execution_count": 40,
   "metadata": {},
   "outputs": [],
   "source": [
    "# Merge plastic_chem with RetipRT on 'INPUT'\n",
    "plastic_chem = plastic_chem.merge(RetipRT[['SMILES_ready', 'PredRT_rtip', 'predRT_higher', 'predRT_lower']], on='SMILES_ready', how='left')\n",
    "\n",
    "# Merge plastic_chem with CFMID on 'SMILES_ready'\n",
    "plastic_chem = plastic_chem.merge(CFMID[['SMILES', 'CFMID']], left_on='SMILES_ready', right_on='SMILES', how='left')\n",
    "\n",
    "# Rename columns to match the original code\n",
    "plastic_chem.rename(columns={'PredRT_rtip': 'PredRT_Retip'}, inplace=True)\n"
   ]
  },
  {
   "cell_type": "code",
   "execution_count": 43,
   "metadata": {},
   "outputs": [],
   "source": [
    "plastic_chem.drop(columns=['SMILES_y'], inplace=True)\n",
    "plastic_chem.rename(columns={'SMILES_x': 'SMILES'}, inplace=True)\n",
    "plastic_chem.to_csv('D:/UCSF_postdoc_topic/REVEAL_topics/REVEAL_200samples_analysis/plastic_map_chemlist/Plastic_Chemical_withRT_CFMID_annotation_20241228.csv', index=False)"
   ]
  },
  {
   "cell_type": "markdown",
   "metadata": {},
   "source": []
  }
 ],
 "metadata": {
  "kernelspec": {
   "display_name": "echoenv",
   "language": "python",
   "name": "python3"
  },
  "language_info": {
   "codemirror_mode": {
    "name": "ipython",
    "version": 3
   },
   "file_extension": ".py",
   "mimetype": "text/x-python",
   "name": "python",
   "nbconvert_exporter": "python",
   "pygments_lexer": "ipython3",
   "version": "3.9.12"
  }
 },
 "nbformat": 4,
 "nbformat_minor": 2
}
