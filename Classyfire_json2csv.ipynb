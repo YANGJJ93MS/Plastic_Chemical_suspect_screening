{
 "cells": [
  {
   "cell_type": "code",
   "execution_count": 1,
   "metadata": {},
   "outputs": [],
   "source": [
    "filepath = 'D:/UCSF_postdoc_topic/REVEAL_topics/REVEAL_200samples_analysis/plastic_map_chemlist/query_11910276-1k.json'\n",
    "outputpath = 'D:/UCSF_postdoc_topic/REVEAL_topics/REVEAL_200samples_analysis/plastic_map_chemlist/query_11910276-1k.csv'"
   ]
  },
  {
   "cell_type": "code",
   "execution_count": null,
   "metadata": {},
   "outputs": [
    {
     "ename": "AttributeError",
     "evalue": "'NoneType' object has no attribute 'get'",
     "output_type": "error",
     "traceback": [
      "\u001b[1;31m---------------------------------------------------------------------------\u001b[0m",
      "\u001b[1;31mAttributeError\u001b[0m                            Traceback (most recent call last)",
      "Cell \u001b[1;32mIn[4], line 32\u001b[0m\n\u001b[0;32m     29\u001b[0m     kingdom_results\u001b[38;5;241m.\u001b[39mappend([\u001b[38;5;124m\"\u001b[39m\u001b[38;5;124mNone\u001b[39m\u001b[38;5;124m\"\u001b[39m])\n\u001b[0;32m     31\u001b[0m classcmp \u001b[38;5;241m=\u001b[39m entity\u001b[38;5;241m.\u001b[39mget(\u001b[38;5;124m\"\u001b[39m\u001b[38;5;124mclass\u001b[39m\u001b[38;5;124m\"\u001b[39m, {})\n\u001b[1;32m---> 32\u001b[0m class_name \u001b[38;5;241m=\u001b[39m \u001b[43mclasscmp\u001b[49m\u001b[38;5;241;43m.\u001b[39;49m\u001b[43mget\u001b[49m(\u001b[38;5;124m\"\u001b[39m\u001b[38;5;124mname\u001b[39m\u001b[38;5;124m\"\u001b[39m, \u001b[38;5;124m\"\u001b[39m\u001b[38;5;124m\"\u001b[39m)\n\u001b[0;32m     33\u001b[0m \u001b[38;5;28;01mif\u001b[39;00m class_name:\n\u001b[0;32m     34\u001b[0m     class_results\u001b[38;5;241m.\u001b[39mappend([class_name])\n",
      "\u001b[1;31mAttributeError\u001b[0m: 'NoneType' object has no attribute 'get'"
     ]
    }
   ],
   "source": [
    "import json\n",
    "import csv\n",
    "import os\n",
    "\n",
    "# Load JSON data\n",
    "with open(filepath, 'r') as json_file:\n",
    "    data = json.load(json_file)\n",
    "\n",
    "# Extract the \"name\" value from \"superclass\"\n",
    "spclass_results = []\n",
    "kingdom_results =[]\n",
    "class_results =[]\n",
    "smi_results = []\n",
    "\n",
    "for entity in data.get(\"entities\", []):\n",
    "    smiles = entity.get(\"smiles\", \"\")\n",
    "    smi_results.append([smiles])\n",
    "\n",
    "    if entity is not None:\n",
    "        superclass = entity.get(\"superclass\", {})\n",
    "        name = superclass.get(\"name\", \"\")\n",
    "        if name:\n",
    "            spclass_results.append([name])\n",
    "        else:\n",
    "            spclass_results.append([\"None\"])\n",
    "        \n",
    "        kingdom = entity.get(\"kingdom\", {})\n",
    "        kingdom_name = kingdom.get(\"name\", \"\")\n",
    "        if kingdom_name:\n",
    "            kingdom_results.append([kingdom_name])\n",
    "        else:\n",
    "            kingdom_results.append([\"None\"])\n",
    "\n",
    "        classcmp = entity.get(\"class\", {})\n",
    "        if classcmp is None:\n",
    "            class_results.append([\"None\"])\n",
    "            continue\n",
    "\n",
    "        class_name = classcmp.get(\"name\", \"\")\n",
    "        if class_name:\n",
    "            class_results.append([class_name])\n",
    "        else:    \n",
    "            class_results.append([\"None\"])\n",
    "\n",
    "    else:\n",
    "        spclass_results.append([\"None\"])\n",
    "        kingdom_results.append([\"None\"])\n",
    "        class_results.append([\"None\"])\n",
    "\n",
    "\n",
    "# Write results to CSV\n",
    "with open(outputpath, 'w', newline='') as csv_file:\n",
    "    csv_writer = csv.writer(csv_file)\n",
    "    csv_writer.writerow(['smiles','kingdom',  \"Superclass Name\", 'class'])\n",
    "    csv_writer.writerows(smi_results,spclass_results,kingdom_results,class_results)\n",
    "\n",
    "print(\"Data extraction complete. Results saved to output.csv.\")\n"
   ]
  },
  {
   "cell_type": "code",
   "execution_count": 8,
   "metadata": {},
   "outputs": [
    {
     "name": "stdout",
     "output_type": "stream",
     "text": [
      "subtracted_numb_twice results exported to subtracted_numb_twice.txt\n"
     ]
    }
   ],
   "source": [
    "\n",
    "\n",
    "# Read the list of numbers from the text file\n",
    "with open('D:/UCSF_postdoc_topic/ESI_/new_data_acquisition/numb.txt', 'r') as file:\n",
    "    numb = list(map(float, file.read().split(',')))\n",
    "\n",
    "# Perform subtraction\n",
    "subtracted_numb = [x - 1.007825 for x in numb]\n",
    "\n",
    "subtracted_numb_twice = [x - 2 * 1.007825 for x in numb]\n",
    "subtracted_numb_twice\n",
    "with open('D:/UCSF_postdoc_topic/ESI_/new_data_acquisition/subtracted_numb_twice.txt', 'w') as file:\n",
    "    file.write(','.join(map(str, subtracted_numb_twice)))\n",
    "\n",
    "print(\"subtracted_numb_twice results exported to subtracted_numb_twice.txt\")"
   ]
  }
 ],
 "metadata": {
  "kernelspec": {
   "display_name": "echoenv",
   "language": "python",
   "name": "python3"
  },
  "language_info": {
   "codemirror_mode": {
    "name": "ipython",
    "version": 3
   },
   "file_extension": ".py",
   "mimetype": "text/x-python",
   "name": "python",
   "nbconvert_exporter": "python",
   "pygments_lexer": "ipython3",
   "version": "3.9.12"
  }
 },
 "nbformat": 4,
 "nbformat_minor": 2
}
