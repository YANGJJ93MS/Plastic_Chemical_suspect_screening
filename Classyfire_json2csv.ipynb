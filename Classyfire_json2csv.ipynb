{
 "cells": [
  {
   "cell_type": "code",
   "execution_count": 31,
   "metadata": {},
   "outputs": [
    {
     "name": "stdout",
     "output_type": "stream",
     "text": [
      "Data extraction complete. Results saved to dataframe.\n"
     ]
    }
   ],
   "source": [
    "import os \n",
    "import json\n",
    "import pandas as pd\n",
    "#find all files in the directory\n",
    "folder = 'D:/UCSF_postdoc_topic/REVEAL_topics/REVEAL_200samples_analysis/Manuscript/classification_classyfire/'\n",
    "files = os.listdir(folder)\n",
    "\n",
    "#find all files with the extension .json\n",
    "#read json files and extract the data as I indicated in the function below:\n",
    "\n",
    "# Initialize lists to store results\n",
    "all_spclass_results = []\n",
    "all_kingdom_results = []\n",
    "all_class_results = []\n",
    "all_smi_results = []\n",
    "\n",
    "# Iterate over all JSON files\n",
    "for file in files:\n",
    "    if file.endswith('.json'):\n",
    "        filepath = os.path.join(folder, file)\n",
    "        \n",
    "        # Load JSON data\n",
    "        with open(filepath, 'r') as json_file:\n",
    "            data = json.load(json_file)\n",
    "        \n",
    "        # Extract the \"name\" value from \"superclass\"\n",
    "        for entity in data.get(\"entities\", []):\n",
    "            smiles = entity.get(\"smiles\", \"\")\n",
    "            all_smi_results.append(smiles)\n",
    "\n",
    "            if entity is not None:\n",
    "                superclass = entity.get(\"superclass\", {})\n",
    "                name = superclass.get(\"name\", \"\")\n",
    "                if name:\n",
    "                    all_spclass_results.append(name)\n",
    "                else:\n",
    "                    all_spclass_results.append(\"None\")\n",
    "\n",
    "                kingdom = entity.get(\"kingdom\", {})\n",
    "                kingdom_name = kingdom.get(\"name\", \"\")\n",
    "                if kingdom_name:\n",
    "                    all_kingdom_results.append(kingdom_name)\n",
    "                else:\n",
    "                    all_kingdom_results.append(\"None\")\n",
    "\n",
    "                classcmp = entity.get(\"class\", {})\n",
    "                if classcmp is None:\n",
    "                    all_class_results.append(\"None\")\n",
    "                    continue\n",
    "\n",
    "                class_name = classcmp.get(\"name\", \"\")\n",
    "                if class_name:\n",
    "                    all_class_results.append(class_name)\n",
    "                else:\n",
    "                    all_class_results.append(\"None\")\n",
    "\n",
    "            else:\n",
    "                all_spclass_results.append(\"None\")\n",
    "                all_kingdom_results.append(\"None\")\n",
    "                all_class_results.append(\"None\")\n",
    "\n",
    "# Create a DataFrame from the results\n",
    "df = pd.DataFrame({\n",
    "    'smiles': all_smi_results,\n",
    "    'kingdom': all_kingdom_results,\n",
    "    'Superclass Name': all_spclass_results,\n",
    "    'class': all_class_results\n",
    "})\n",
    "\n",
    "print(\"Data extraction complete. Results saved to dataframe.\")\n"
   ]
  },
  {
   "cell_type": "code",
   "execution_count": 33,
   "metadata": {},
   "outputs": [
    {
     "data": {
      "text/html": [
       "<div>\n",
       "<style scoped>\n",
       "    .dataframe tbody tr th:only-of-type {\n",
       "        vertical-align: middle;\n",
       "    }\n",
       "\n",
       "    .dataframe tbody tr th {\n",
       "        vertical-align: top;\n",
       "    }\n",
       "\n",
       "    .dataframe thead th {\n",
       "        text-align: right;\n",
       "    }\n",
       "</style>\n",
       "<table border=\"1\" class=\"dataframe\">\n",
       "  <thead>\n",
       "    <tr style=\"text-align: right;\">\n",
       "      <th></th>\n",
       "      <th>smiles</th>\n",
       "      <th>kingdom</th>\n",
       "      <th>Superclass Name</th>\n",
       "      <th>class</th>\n",
       "    </tr>\n",
       "  </thead>\n",
       "  <tbody>\n",
       "    <tr>\n",
       "      <th>0</th>\n",
       "      <td>CC(C)(C)C1CCC(CC1)OC(=O)C=C</td>\n",
       "      <td>Organic compounds</td>\n",
       "      <td>Organic acids and derivatives</td>\n",
       "      <td>Carboxylic acids and derivatives</td>\n",
       "    </tr>\n",
       "    <tr>\n",
       "      <th>1</th>\n",
       "      <td>CCCCC(CC)COC(=O)C1CCC(CC1)C(=O)OCC(CC)CCCC</td>\n",
       "      <td>Organic compounds</td>\n",
       "      <td>Organic acids and derivatives</td>\n",
       "      <td>Carboxylic acids and derivatives</td>\n",
       "    </tr>\n",
       "    <tr>\n",
       "      <th>2</th>\n",
       "      <td>CCC1(COC(OC1)C(C)(C)COC(=O)C=C)C(=C)C(=O)OC</td>\n",
       "      <td>Organic compounds</td>\n",
       "      <td>Lipids and lipid-like molecules</td>\n",
       "      <td>Fatty Acyls</td>\n",
       "    </tr>\n",
       "    <tr>\n",
       "      <th>3</th>\n",
       "      <td>CC1=NN(C(=O)C1\\N=N\\C1=C(O)C=C(C=C1)N(=O)=O)C1=...</td>\n",
       "      <td>Organic compounds</td>\n",
       "      <td>Organic nitrogen compounds</td>\n",
       "      <td>Organonitrogen compounds</td>\n",
       "    </tr>\n",
       "    <tr>\n",
       "      <th>4</th>\n",
       "      <td>[O-]c1cc(c2ccccc2c1\\N=N\\c1ccc2cccc(c2c1[O-])S(...</td>\n",
       "      <td>Organic compounds</td>\n",
       "      <td>Benzenoids</td>\n",
       "      <td>Naphthalenes</td>\n",
       "    </tr>\n",
       "  </tbody>\n",
       "</table>\n",
       "</div>"
      ],
      "text/plain": [
       "                                              smiles            kingdom  \\\n",
       "0                        CC(C)(C)C1CCC(CC1)OC(=O)C=C  Organic compounds   \n",
       "1         CCCCC(CC)COC(=O)C1CCC(CC1)C(=O)OCC(CC)CCCC  Organic compounds   \n",
       "2        CCC1(COC(OC1)C(C)(C)COC(=O)C=C)C(=C)C(=O)OC  Organic compounds   \n",
       "3  CC1=NN(C(=O)C1\\N=N\\C1=C(O)C=C(C=C1)N(=O)=O)C1=...  Organic compounds   \n",
       "4  [O-]c1cc(c2ccccc2c1\\N=N\\c1ccc2cccc(c2c1[O-])S(...  Organic compounds   \n",
       "\n",
       "                   Superclass Name                             class  \n",
       "0    Organic acids and derivatives  Carboxylic acids and derivatives  \n",
       "1    Organic acids and derivatives  Carboxylic acids and derivatives  \n",
       "2  Lipids and lipid-like molecules                       Fatty Acyls  \n",
       "3       Organic nitrogen compounds          Organonitrogen compounds  \n",
       "4                       Benzenoids                      Naphthalenes  "
      ]
     },
     "execution_count": 33,
     "metadata": {},
     "output_type": "execute_result"
    }
   ],
   "source": [
    "df.head()"
   ]
  },
  {
   "cell_type": "code",
   "execution_count": 41,
   "metadata": {},
   "outputs": [],
   "source": [
    "folder = 'D:/UCSF_postdoc_topic/REVEAL_topics/REVEAL_200samples_analysis/Manuscript/classification_classyfire/'\n",
    "filepath= os.path.join(folder, os.listdir(folder)[0])\n",
    "outputpath = 'D:/UCSF_postdoc_topic/REVEAL_topics/REVEAL_200samples_analysis/Manuscript/classification_classyfire/results.csv'"
   ]
  },
  {
   "cell_type": "code",
   "execution_count": 56,
   "metadata": {},
   "outputs": [
    {
     "name": "stdout",
     "output_type": "stream",
     "text": [
      "Extracted 100 entries.\n"
     ]
    },
    {
     "data": {
      "text/plain": [
       "'D:/UCSF_postdoc_topic/REVEAL_topics/REVEAL_200samples_analysis/Manuscript/classification_classyfire/results.csv'"
      ]
     },
     "execution_count": 56,
     "metadata": {},
     "output_type": "execute_result"
    }
   ],
   "source": [
    "import json\n",
    "import pandas as pd\n",
    "\n",
    "# Load JSON data from file\n",
    "with open(filepath, 'r') as file:\n",
    "    data = json.load(file)\n",
    "\n",
    "# Ensure 'entities' exists and contains all entries\n",
    "entities = data.get('entities', [])\n",
    "if not entities:\n",
    "    raise ValueError(\"No entities found in the JSON file.\")\n",
    "\n",
    "# Extract relevant information\n",
    "extracted_data = []\n",
    "for entry in entities:\n",
    "    identifier = entry.get('identifier', None)\n",
    "    smiles = entry.get('smiles', None)\n",
    "    inchikey = entry.get('inchikey', None)\n",
    "    kingdom = entry.get('kingdom', {})\n",
    "    superclass = entry.get('superclass', {})\n",
    "    entry_class = entry.get('class', {})\n",
    "\n",
    "    kingdom_name = kingdom.get('name', None) if kingdom else None\n",
    "    superclass_name = superclass.get('name', None) if superclass else None\n",
    "    class_name = entry_class.get('name', None) if entry_class else None\n",
    "\n",
    "    extracted_data.append({\n",
    "        'Identifier': identifier,\n",
    "        'SMILES': smiles,\n",
    "        'InChIKey': inchikey,\n",
    "        'Kingdom': kingdom_name,\n",
    "        'Superclass': superclass_name,\n",
    "        'Class': class_name\n",
    "    })\n",
    "\n",
    "# Validate the number of entries extracted\n",
    "if len(extracted_data) != len(entities):\n",
    "    raise ValueError(\"Mismatch in the number of entities and extracted data. Check the JSON structure.\")\n",
    "\n",
    "# Create a DataFrame\n",
    "df = pd.DataFrame(extracted_data)\n",
    "\n",
    "# Save or display the DataFrame\n",
    "output_path = outputpath\n",
    "print(f\"Extracted {len(extracted_data)} entries.\")\n",
    "df.to_csv(output_path, index=False)\n",
    "\n",
    "output_path\n"
   ]
  },
  {
   "cell_type": "code",
   "execution_count": 57,
   "metadata": {},
   "outputs": [
    {
     "data": {
      "text/plain": [
       "(100, 6)"
      ]
     },
     "execution_count": 57,
     "metadata": {},
     "output_type": "execute_result"
    }
   ],
   "source": [
    "df.shape"
   ]
  },
  {
   "cell_type": "code",
   "execution_count": 26,
   "metadata": {},
   "outputs": [
    {
     "name": "stdout",
     "output_type": "stream",
     "text": [
      "Data extraction complete. Results saved to output.csv.\n"
     ]
    }
   ],
   "source": [
    "import json\n",
    "import csv\n",
    "import os\n",
    "\n",
    "# Load JSON data\n",
    "with open(filepath, 'r') as json_file:\n",
    "    data = json.load(json_file)\n",
    "\n",
    "# Extract the \"name\" value from \"superclass\"\n",
    "spclass_results = []\n",
    "kingdom_results =[]\n",
    "class_results =[]\n",
    "smi_results = []\n",
    "\n",
    "for entity in data.get(\"entities\", []):\n",
    "    smiles = entity.get(\"smiles\", \"\")\n",
    "    smi_results.append([smiles])\n",
    "\n",
    "    if entity is not None:\n",
    "        superclass = entity.get(\"superclass\", {})\n",
    "        name = superclass.get(\"name\", \"\")\n",
    "        if name:\n",
    "            spclass_results.append([name])\n",
    "        else:\n",
    "            spclass_results.append([\"None\"])\n",
    "        \n",
    "        kingdom = entity.get(\"kingdom\", {})\n",
    "        kingdom_name = kingdom.get(\"name\", \"\")\n",
    "        if kingdom_name:\n",
    "            kingdom_results.append([kingdom_name])\n",
    "        else:\n",
    "            kingdom_results.append([\"None\"])\n",
    "\n",
    "        classcmp = entity.get(\"class\", {})\n",
    "        if classcmp is None:\n",
    "            class_results.append([\"None\"])\n",
    "            continue\n",
    "\n",
    "        class_name = classcmp.get(\"name\", \"\")\n",
    "        if class_name:\n",
    "            class_results.append([class_name])\n",
    "        else:    \n",
    "            class_results.append([\"None\"])\n",
    "\n",
    "    else:\n",
    "        spclass_results.append([\"None\"])\n",
    "        kingdom_results.append([\"None\"])\n",
    "        class_results.append([\"None\"])\n",
    "\n",
    "\n",
    "# Combine the results into a single list of rows\n",
    "combined_results = list(zip(all_smi_results, all_kingdom_results, all_spclass_results, all_class_results))\n",
    "\n",
    "# Write results to CSV\n",
    "with open(outputpath, 'w', newline='') as csv_file:\n",
    "    csv_writer = csv.writer(csv_file)\n",
    "    csv_writer.writerow(['smiles', 'kingdom', 'Superclass Name', 'class'])\n",
    "    csv_writer.writerows(combined_results)\n",
    "\n",
    "print(\"Data extraction complete. Results saved to output.csv.\")\n"
   ]
  },
  {
   "cell_type": "code",
   "execution_count": null,
   "metadata": {},
   "outputs": [],
   "source": []
  },
  {
   "cell_type": "code",
   "execution_count": 25,
   "metadata": {},
   "outputs": [
    {
     "name": "stdout",
     "output_type": "stream",
     "text": [
      "subtracted_numb_twice results exported to subtracted_numb_twice.txt\n"
     ]
    }
   ],
   "source": [
    "# Read the list of numbers from the text file\n",
    "with open('D:/UCSF_postdoc_topic/ESI_/new_data_acquisition/numb.txt', 'r') as file:\n",
    "    numb = list(map(float, file.read().split(',')))\n",
    "\n",
    "# Perform subtraction\n",
    "subtracted_numb = [x - 1.007825 for x in numb]\n",
    "\n",
    "subtracted_numb_twice = [x - 2 * 1.007825 for x in numb]\n",
    "subtracted_numb_twice\n",
    "with open('D:/UCSF_postdoc_topic/ESI_/new_data_acquisition/subtracted_numb_twice.txt', 'w') as file:\n",
    "    file.write(','.join(map(str, subtracted_numb_twice)))\n",
    "\n",
    "print(\"subtracted_numb_twice results exported to subtracted_numb_twice.txt\")"
   ]
  }
 ],
 "metadata": {
  "kernelspec": {
   "display_name": "echoenv",
   "language": "python",
   "name": "python3"
  },
  "language_info": {
   "codemirror_mode": {
    "name": "ipython",
    "version": 3
   },
   "file_extension": ".py",
   "mimetype": "text/x-python",
   "name": "python",
   "nbconvert_exporter": "python",
   "pygments_lexer": "ipython3",
   "version": "3.9.12"
  }
 },
 "nbformat": 4,
 "nbformat_minor": 2
}
