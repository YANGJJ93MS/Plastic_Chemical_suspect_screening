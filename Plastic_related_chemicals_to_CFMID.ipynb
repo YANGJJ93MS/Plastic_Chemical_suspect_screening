{
 "cells": [
  {
   "cell_type": "code",
   "execution_count": 1,
   "metadata": {},
   "outputs": [
    {
     "name": "stderr",
     "output_type": "stream",
     "text": [
      "C:\\Users\\yangj\\AppData\\Local\\Temp\\ipykernel_41744\\2642251357.py:7: DtypeWarning: Columns (18,19,20,23,59,60) have mixed types. Specify dtype option on import or set low_memory=False.\n",
      "  plastic_list = pd.read_csv('D:/UCSF_postdoc_topic/REVEAL_topics/REVEAL_200samples_analysis/Plastic_map_chemicallist_match/Plastic_Chemical_List_organic.csv')\n"
     ]
    }
   ],
   "source": [
    "import pandas as pd\n",
    "import numpy as np\n",
    "import os\n",
    "#the following code is used for fitered plastic chemicals based on ms1 search on the first 100 batch sample data.\n",
    "#and use the chemical list to generate the insilico spectrum database.\n",
    "#update the search with the filtered ms1 peak area file and return the matched results for the plastic map chemcial list\n",
    "plastic_list = pd.read_csv('D:/UCSF_postdoc_topic/REVEAL_topics/REVEAL_200samples_analysis/Plastic_map_chemicallist_match/Plastic_Chemical_List_organic.csv')"
   ]
  },
  {
   "cell_type": "code",
   "execution_count": 2,
   "metadata": {},
   "outputs": [
    {
     "data": {
      "text/plain": [
       "(5144, 796)"
      ]
     },
     "execution_count": 2,
     "metadata": {},
     "output_type": "execute_result"
    }
   ],
   "source": [
    "plastic_list.shape"
   ]
  },
  {
   "cell_type": "code",
   "execution_count": 4,
   "metadata": {},
   "outputs": [],
   "source": [
    "#####\n",
    "#generate the files for CFM-ID spectra prediciton\n",
    "CFMID_ready_df = plastic_list[['SMILES_ready']].copy()\n",
    "# Split each value by ',' and retain the longest string\n",
    "CFMID_ready_df['SMILES_ready'] = CFMID_ready_df['SMILES_ready'].apply(\n",
    "    lambda x: max(x.split(','), key=len) if isinstance(x, str) else x\n",
    ")\n",
    "\n",
    "CFMID_ready_df['ID'] = ['Molecule' + str(i + 1) for i in range(len(CFMID_ready_df))]\n",
    "CFMID_ready_df = CFMID_ready_df[['ID','SMILES_ready']]\n",
    "# CFMID_ready_df.to_csv('D:/UCSF_postdoc_topic/REVEAL_topics/First100_batch/neg_CFMID_MSready.txt', sep='\\t', index=False, header=False)\n",
    "CFMID_ready_df.to_csv('D:/UCSF_postdoc_topic/REVEAL_topics/REVEAL_200samples_analysis/CFM_prediction/pos_CFMID_MSready_5144.txt', sep='\\t', index=False, header=False)"
   ]
  },
  {
   "cell_type": "code",
   "execution_count": 6,
   "metadata": {},
   "outputs": [],
   "source": [
    "plastic_list['CFMID_ID'] = ['Molecule' + str(i + 1) for i in range(len(plastic_list))]\n",
    "plastic_list.to_csv('D:/UCSF_postdoc_topic/REVEAL_topics/REVEAL_200samples_analysis/Plastic_map_chemicallist_match/Plastic_Chemical_List_organic.csv', index=False)"
   ]
  }
 ],
 "metadata": {
  "kernelspec": {
   "display_name": "echoenv",
   "language": "python",
   "name": "python3"
  },
  "language_info": {
   "codemirror_mode": {
    "name": "ipython",
    "version": 3
   },
   "file_extension": ".py",
   "mimetype": "text/x-python",
   "name": "python",
   "nbconvert_exporter": "python",
   "pygments_lexer": "ipython3",
   "version": "3.9.12"
  }
 },
 "nbformat": 4,
 "nbformat_minor": 2
}
